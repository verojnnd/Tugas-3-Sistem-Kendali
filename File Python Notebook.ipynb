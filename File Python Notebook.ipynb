{
 "cells": [
  {
   "cell_type": "markdown",
   "id": "6dd85c78",
   "metadata": {},
   "source": [
    "### Veronika Juninda ( 21/474552/PA/20495 )"
   ]
  },
  {
   "cell_type": "code",
   "execution_count": 16,
   "id": "5def2069",
   "metadata": {},
   "outputs": [
    {
     "name": "stdout",
     "output_type": "stream",
     "text": [
      "Requirement already satisfied: tbcontrol in c:\\users\\veron\\anaconda3\\lib\\site-packages (0.2.1)\n",
      "Requirement already satisfied: scipy in c:\\users\\veron\\anaconda3\\lib\\site-packages (from tbcontrol) (1.7.3)\n",
      "Requirement already satisfied: tqdm in c:\\users\\veron\\anaconda3\\lib\\site-packages (from tbcontrol) (4.64.0)\n",
      "Requirement already satisfied: numpy in c:\\users\\veron\\anaconda3\\lib\\site-packages (from tbcontrol) (1.21.5)\n",
      "Requirement already satisfied: packaging in c:\\users\\veron\\anaconda3\\lib\\site-packages (from tbcontrol) (21.3)\n",
      "Requirement already satisfied: pyparsing!=3.0.5,>=2.0.2 in c:\\users\\veron\\anaconda3\\lib\\site-packages (from packaging->tbcontrol) (3.0.4)\n",
      "Requirement already satisfied: colorama in c:\\users\\veron\\anaconda3\\lib\\site-packages (from tqdm->tbcontrol) (0.4.4)\n"
     ]
    }
   ],
   "source": [
    "!pip install tbcontrol"
   ]
  },
  {
   "cell_type": "code",
   "execution_count": 17,
   "id": "6762b693",
   "metadata": {},
   "outputs": [],
   "source": [
    "import sympy\n",
    "import tbcontrol\n",
    "from tbcontrol.symbolic import routh\n",
    "\n",
    "s = sympy.Symbol('s')\n",
    "K = sympy.Symbol('K')"
   ]
  },
  {
   "cell_type": "code",
   "execution_count": 18,
   "id": "9c8f41f0",
   "metadata": {},
   "outputs": [
    {
     "name": "stdout",
     "output_type": "stream",
     "text": [
      "Nilai Polynomial\n"
     ]
    },
    {
     "data": {
      "text/latex": [
       "$\\displaystyle \\operatorname{Poly}{\\left( 7 s^{7} + 3 s^{6} + 6 s^{5} + 4 s^{4} + 5 s^{3} + 2 s^{2} + s + K, s, domain=\\mathbb{Z}\\left[K\\right] \\right)}$"
      ],
      "text/plain": [
       "Poly(7*s**7 + 3*s**6 + 6*s**5 + 4*s**4 + 5*s**3 + 2*s**2 + s + K, s, domain='ZZ[K]')"
      ]
     },
     "execution_count": 18,
     "metadata": {},
     "output_type": "execute_result"
    }
   ],
   "source": [
    "# NO 1\n",
    "\n",
    "print(\"Nilai Polynomial\")\n",
    "p = 7*s**7 + 3*s**6 + 6*s**5 + 4*s**4 + 5*s**3 + 2*s**2 + s + K\n",
    "p = sympy.Poly(p, s)\n",
    "p"
   ]
  },
  {
   "cell_type": "code",
   "execution_count": 19,
   "id": "a02f1403",
   "metadata": {},
   "outputs": [
    {
     "name": "stdout",
     "output_type": "stream",
     "text": [
      "Routh Table\n"
     ]
    },
    {
     "data": {
      "text/latex": [
       "$\\displaystyle \\left[\\begin{matrix}7 & 6 & 5 & 1\\\\3 & 4 & 2 & K\\\\- \\frac{10}{3} & \\frac{1}{3} & 1 - \\frac{7 K}{3} & 0\\\\\\frac{43}{10} & \\frac{29}{10} - \\frac{21 K}{10} & K & 0\\\\\\frac{111}{43} - \\frac{70 K}{43} & 1 - \\frac{67 K}{43} & 0 & 0\\\\\\frac{- 147 K^{2} + 148 K - 137}{70 K - 111} & K & 0 & 0\\\\\\frac{- 343 K^{3} + 739 K^{2} - 648 K + 137}{147 K^{2} - 148 K + 137} & 0 & 0 & 0\\\\K & 0 & 0 & 0\\end{matrix}\\right]$"
      ],
      "text/plain": [
       "Matrix([\n",
       "[                                                            7,               6,         5, 1],\n",
       "[                                                            3,               4,         2, K],\n",
       "[                                                        -10/3,             1/3, 1 - 7*K/3, 0],\n",
       "[                                                        43/10, 29/10 - 21*K/10,         K, 0],\n",
       "[                                             111/43 - 70*K/43,     1 - 67*K/43,         0, 0],\n",
       "[                       (-147*K**2 + 148*K - 137)/(70*K - 111),               K,         0, 0],\n",
       "[(-343*K**3 + 739*K**2 - 648*K + 137)/(147*K**2 - 148*K + 137),               0,         0, 0],\n",
       "[                                                            K,               0,         0, 0]])"
      ]
     },
     "execution_count": 19,
     "metadata": {},
     "output_type": "execute_result"
    }
   ],
   "source": [
    "print(\"Routh Table\")\n",
    "R = routh(sympy.Poly(p, s))\n",
    "R"
   ]
  },
  {
   "cell_type": "code",
   "execution_count": 20,
   "id": "ce34ba1c",
   "metadata": {},
   "outputs": [
    {
     "name": "stdout",
     "output_type": "stream",
     "text": [
      "Nilai K\n"
     ]
    },
    {
     "data": {
      "text/latex": [
       "$\\displaystyle \\text{False}$"
      ],
      "text/plain": [
       "False"
      ]
     },
     "execution_count": 20,
     "metadata": {},
     "output_type": "execute_result"
    }
   ],
   "source": [
    "print(\"Nilai K\")\n",
    "sympy.solve([e > 0 for e in R[:, 0]], K)"
   ]
  },
  {
   "cell_type": "code",
   "execution_count": 21,
   "id": "ca096361",
   "metadata": {},
   "outputs": [
    {
     "name": "stdout",
     "output_type": "stream",
     "text": [
      "Nilai Polynomial\n"
     ]
    },
    {
     "data": {
      "text/latex": [
       "$\\displaystyle \\operatorname{Poly}{\\left( 4 s^{4} + 3 s^{3} + 2 s^{2} + s + 7, s, domain=\\mathbb{Z} \\right)}$"
      ],
      "text/plain": [
       "Poly(4*s**4 + 3*s**3 + 2*s**2 + s + 7, s, domain='ZZ')"
      ]
     },
     "execution_count": 21,
     "metadata": {},
     "output_type": "execute_result"
    }
   ],
   "source": [
    "# NO 2\n",
    "\n",
    "print(\"Nilai Polynomial\")\n",
    "p = 4*s**4 + 3*s**3 + 2*s**2 +  s + 7\n",
    "p = sympy.Poly(p, s)\n",
    "p"
   ]
  },
  {
   "cell_type": "code",
   "execution_count": 22,
   "id": "85a84790",
   "metadata": {},
   "outputs": [
    {
     "name": "stdout",
     "output_type": "stream",
     "text": [
      "Routh Table\n"
     ]
    },
    {
     "data": {
      "text/latex": [
       "$\\displaystyle \\left[\\begin{matrix}4 & 2 & 7\\\\3 & 1 & 0\\\\\\frac{2}{3} & 7 & 0\\\\- \\frac{61}{2} & 0 & 0\\\\7 & 0 & 0\\end{matrix}\\right]$"
      ],
      "text/plain": [
       "Matrix([\n",
       "[    4, 2, 7],\n",
       "[    3, 1, 0],\n",
       "[  2/3, 7, 0],\n",
       "[-61/2, 0, 0],\n",
       "[    7, 0, 0]])"
      ]
     },
     "execution_count": 22,
     "metadata": {},
     "output_type": "execute_result"
    }
   ],
   "source": [
    "print(\"Routh Table\")\n",
    "R = routh(sympy.Poly(p, s))\n",
    "R"
   ]
  },
  {
   "cell_type": "code",
   "execution_count": 23,
   "id": "8e82baf4",
   "metadata": {},
   "outputs": [
    {
     "name": "stdout",
     "output_type": "stream",
     "text": [
      "Nilai K\n"
     ]
    },
    {
     "data": {
      "text/plain": [
       "[]"
      ]
     },
     "execution_count": 23,
     "metadata": {},
     "output_type": "execute_result"
    }
   ],
   "source": [
    "print(\"Nilai K\")\n",
    "sympy.solve([e > 0 for e in R[:, 0]], K)"
   ]
  },
  {
   "cell_type": "code",
   "execution_count": null,
   "id": "9242c55f",
   "metadata": {},
   "outputs": [],
   "source": []
  }
 ],
 "metadata": {
  "kernelspec": {
   "display_name": "Python 3 (ipykernel)",
   "language": "python",
   "name": "python3"
  },
  "language_info": {
   "codemirror_mode": {
    "name": "ipython",
    "version": 3
   },
   "file_extension": ".py",
   "mimetype": "text/x-python",
   "name": "python",
   "nbconvert_exporter": "python",
   "pygments_lexer": "ipython3",
   "version": "3.9.12"
  }
 },
 "nbformat": 4,
 "nbformat_minor": 5
}
